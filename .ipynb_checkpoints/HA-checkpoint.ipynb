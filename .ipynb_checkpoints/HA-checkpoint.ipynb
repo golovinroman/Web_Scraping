{
 "cells": [
  {
   "cell_type": "markdown",
   "metadata": {},
   "source": [
    "# HA4"
   ]
  },
  {
   "cell_type": "code",
   "execution_count": 64,
   "metadata": {},
   "outputs": [],
   "source": [
    "import numpy as np\n",
    "import pandas as pd\n",
    "import requests\n",
    "import json\n",
    "from pprint import pprint\n",
    "from lxml import html\n",
    "from datetime import date"
   ]
  },
  {
   "cell_type": "code",
   "execution_count": 65,
   "metadata": {},
   "outputs": [],
   "source": [
    "# запускаем базу news и открываем там коллекцию yandex_news\n",
    "from pymongo import MongoClient\n",
    "client = MongoClient('127.0.0.1', 27017)\n",
    "\n",
    "db = client['news']\n",
    "yandex_news = db.yandex_news"
   ]
  },
  {
   "cell_type": "code",
   "execution_count": 66,
   "metadata": {},
   "outputs": [],
   "source": [
    "# скрапим данные с яндекса\n",
    "headers = {'User-Agent':'Mozilla/5.0 (Windows NT 10.0; Win64; x64) AppleWebKit/537.36 (KHTML, like Gecko) Chrome/92.0.4515.131 Safari/537.36',\n",
    "          'Accept' : '*/*'}\n",
    "\n",
    "url = 'https://yandex.ru/news'\n",
    "response = requests.get(url, headers = headers)\n",
    "dom = html.fromstring(response.text)"
   ]
  },
  {
   "cell_type": "code",
   "execution_count": 67,
   "metadata": {},
   "outputs": [],
   "source": [
    "# парсим заголовки статей\n",
    "data = dom.xpath(\"//div[contains(@class, 'mg-grid__row mg-grid__row_gap_8 news-top-flexible-stories')]/div[contains(@class, 'mg-grid__col mg-grid__col_xs_')]//h2[contains(@class, 'mg-card')]/text()\")\n",
    "\n",
    "title = []\n",
    "for item in data:\n",
    "    title.append(item.replace(\"\\xa0\", \" \"))\n",
    "\n",
    "# парсим ссылки на статьи на самом агрегаторе\n",
    "link = dom.xpath(\"//div[contains(@class, 'mg-grid__row mg-grid__row_gap_8 news-top-flexible-stories')]/div[contains(@class, 'mg-grid__col mg-grid__col_xs_')]//a[contains(@class, 'mg-card__link')]/@href\")\n",
    "\n",
    "# парсим источники\n",
    "source = dom.xpath(\"//div[contains(@class, 'mg-grid__row mg-grid__row_gap_8 news-top-flexible-stories')]/div[contains(@class, 'mg-grid__col mg-grid__col_xs_')]//a[contains(@class, 'mg-card__source-link')]/text()\")\n",
    "\n",
    "# парсим дату новости\n",
    "data = dom.xpath(\"//div[contains(@class, 'mg-grid__row mg-grid__row_gap_8 news-top-flexible-stories')]/div[contains(@class, 'mg-grid__col mg-grid__col_xs_')]//span[contains(@class, 'mg-card-source__time')]/text()\")\n",
    "\n",
    "issue_date = []\n",
    "for i in data:\n",
    "    time = datetime.strptime(i, '%H:%M').time()\n",
    "    issue_date.append(datetime.combine(date.today(), time))\n"
   ]
  },
  {
   "cell_type": "code",
   "execution_count": 68,
   "metadata": {},
   "outputs": [
    {
     "data": {
      "text/html": [
       "<div>\n",
       "<style scoped>\n",
       "    .dataframe tbody tr th:only-of-type {\n",
       "        vertical-align: middle;\n",
       "    }\n",
       "\n",
       "    .dataframe tbody tr th {\n",
       "        vertical-align: top;\n",
       "    }\n",
       "\n",
       "    .dataframe thead th {\n",
       "        text-align: right;\n",
       "    }\n",
       "</style>\n",
       "<table border=\"1\" class=\"dataframe\">\n",
       "  <thead>\n",
       "    <tr style=\"text-align: right;\">\n",
       "      <th></th>\n",
       "      <th>Заголовок</th>\n",
       "      <th>Ссылка</th>\n",
       "      <th>Источник</th>\n",
       "      <th>Дата</th>\n",
       "    </tr>\n",
       "  </thead>\n",
       "  <tbody>\n",
       "    <tr>\n",
       "      <td>0</td>\n",
       "      <td>Два самолета МО РФ доставили эвакуированных из...</td>\n",
       "      <td>https://yandex.ru/news/story/Dva_samoleta_MO_R...</td>\n",
       "      <td>Известия</td>\n",
       "      <td>2021-08-25 17:55:00</td>\n",
       "    </tr>\n",
       "    <tr>\n",
       "      <td>1</td>\n",
       "      <td>Путин разрешил допустить к госслужбе россиян с...</td>\n",
       "      <td>https://yandex.ru/news/story/Putin_razreshil_d...</td>\n",
       "      <td>Ведомости</td>\n",
       "      <td>2021-08-25 17:52:00</td>\n",
       "    </tr>\n",
       "    <tr>\n",
       "      <td>2</td>\n",
       "      <td>Подозреваемого в убийстве восьмилетней девочки...</td>\n",
       "      <td>https://yandex.ru/news/story/Podozrevaemogo_vu...</td>\n",
       "      <td>ТАСС</td>\n",
       "      <td>2021-08-25 17:49:00</td>\n",
       "    </tr>\n",
       "    <tr>\n",
       "      <td>3</td>\n",
       "      <td>Nord Stream 2 проиграла дело о выводе «Северно...</td>\n",
       "      <td>https://yandex.ru/news/story/Nord_Stream_2_pro...</td>\n",
       "      <td>РБК</td>\n",
       "      <td>2021-08-25 17:50:00</td>\n",
       "    </tr>\n",
       "    <tr>\n",
       "      <td>4</td>\n",
       "      <td>Сопротивление талибам в Афганистане призвало Р...</td>\n",
       "      <td>https://yandex.ru/news/story/Soprotivlenie_tal...</td>\n",
       "      <td>Известия</td>\n",
       "      <td>2021-08-25 17:48:00</td>\n",
       "    </tr>\n",
       "  </tbody>\n",
       "</table>\n",
       "</div>"
      ],
      "text/plain": [
       "                                           Заголовок  \\\n",
       "0  Два самолета МО РФ доставили эвакуированных из...   \n",
       "1  Путин разрешил допустить к госслужбе россиян с...   \n",
       "2  Подозреваемого в убийстве восьмилетней девочки...   \n",
       "3  Nord Stream 2 проиграла дело о выводе «Северно...   \n",
       "4  Сопротивление талибам в Афганистане призвало Р...   \n",
       "\n",
       "                                              Ссылка   Источник  \\\n",
       "0  https://yandex.ru/news/story/Dva_samoleta_MO_R...   Известия   \n",
       "1  https://yandex.ru/news/story/Putin_razreshil_d...  Ведомости   \n",
       "2  https://yandex.ru/news/story/Podozrevaemogo_vu...       ТАСС   \n",
       "3  https://yandex.ru/news/story/Nord_Stream_2_pro...        РБК   \n",
       "4  https://yandex.ru/news/story/Soprotivlenie_tal...   Известия   \n",
       "\n",
       "                 Дата  \n",
       "0 2021-08-25 17:55:00  \n",
       "1 2021-08-25 17:52:00  \n",
       "2 2021-08-25 17:49:00  \n",
       "3 2021-08-25 17:50:00  \n",
       "4 2021-08-25 17:48:00  "
      ]
     },
     "execution_count": 68,
     "metadata": {},
     "output_type": "execute_result"
    }
   ],
   "source": [
    "df = pd.DataFrame(list(zip(title, link, source, issue_date)), \n",
    "                  columns = ['Заголовок', 'Ссылка', 'Источник', 'Дата'])\n",
    "\n",
    "df.to_csv('news.csv', index=False, sep= ',',encoding='utf-8-sig')\n",
    "df.head()"
   ]
  },
  {
   "cell_type": "code",
   "execution_count": 69,
   "metadata": {},
   "outputs": [
    {
     "name": "stdout",
     "output_type": "stream",
     "text": [
      " Всего новостей в базе: 10, \n",
      " было добавлено: 5 новостей, \n",
      " было выявлено дублей: 0, они не попали в базу\n"
     ]
    }
   ],
   "source": [
    "double = 0\n",
    "for i in range(len(df)):    \n",
    "    if yandex_news.count_documents({'link' : df['Ссылка'].iloc[i]}) == 0: \n",
    "        yandex_news.insert_one({'title' : df['Заголовок'].iloc[i],\n",
    "            'link' : df['Ссылка'].iloc[i],                          \n",
    "            'source' : df['Источник'].iloc[i],\n",
    "            'datetime' : df['Дата'].iloc[i]})\n",
    "    else:\n",
    "            double += 1\n",
    "\n",
    "print(f' Всего новостей в базе: {yandex_news.estimated_document_count()}, \\n было добавлено: {len(df)-double} новостей, \\n было выявлено дублей: {double}, они не попали в базу')"
   ]
  },
  {
   "cell_type": "code",
   "execution_count": 70,
   "metadata": {},
   "outputs": [
    {
     "name": "stdout",
     "output_type": "stream",
     "text": [
      "{'_id': ObjectId('612659f70af98dfe2b42f393'),\n",
      " 'datetime': datetime.datetime(2021, 8, 25, 17, 40),\n",
      " 'link': 'https://yandex.ru/news/story/Dva_samoleta_MO_RF_dostavili_ehvakuirovannykh_izAfganistana_grazhdan_Kirgizii--f38b49e7e01acbcd79a1be0fba39ef19?lang=ru&rubric=index&fan=1&stid=R3c3xEdCTWc1uCgaluYQ&t=1629902672&tt=true&persistent_id=158460989',\n",
      " 'source': 'Известия',\n",
      " 'title': 'Два самолета МО РФ доставили эвакуированных из Афганистана граждан '\n",
      "          'Киргизии'}\n",
      "{'_id': ObjectId('612659f70af98dfe2b42f394'),\n",
      " 'datetime': datetime.datetime(2021, 8, 25, 17, 38),\n",
      " 'link': 'https://yandex.ru/news/story/Podozrevaemogo_vubijstve_vosmiletnej_devochki_vTyumeni_zaderzhali--6a8a5a25aba7949a4cc31026d61602f2?lang=ru&rubric=index&fan=1&stid=0Lz9QyEkSzo36VZluwdC&t=1629902672&tt=true&persistent_id=159211683',\n",
      " 'source': 'ТАСС',\n",
      " 'title': 'Подозреваемого в убийстве восьмилетней девочки в Тюмени задержали'}\n",
      "{'_id': ObjectId('612659f70af98dfe2b42f395'),\n",
      " 'datetime': datetime.datetime(2021, 8, 25, 17, 42),\n",
      " 'link': 'https://yandex.ru/news/story/Putin_razreshil_dopustit_kgossluzhbe_rossiyan_sinostrannym_grazhdanstvom--e5bdaaea25676c8e90696793e4f099d6?lang=ru&rubric=index&fan=1&stid=xGwrhwIuIledPjmtEgBg&t=1629902672&tt=true&persistent_id=159224703',\n",
      " 'source': 'Ведомости',\n",
      " 'title': 'Путин разрешил допустить к госслужбе россиян с иностранным '\n",
      "          'гражданством'}\n",
      "{'_id': ObjectId('612659f70af98dfe2b42f396'),\n",
      " 'datetime': datetime.datetime(2021, 8, 25, 17, 32),\n",
      " 'link': 'https://yandex.ru/news/story/Nord_Stream_2_proigrala_delo_ovyvode_Severnogo_potoka-2_iz-podnorm_ES--f19e9ea135139eb6886a24cfef1f4a03?lang=ru&rubric=index&fan=1&stid=_ZMwXqYgxOr7iVk2Cbjo&t=1629902672&tt=true&persistent_id=158432290',\n",
      " 'source': 'РБК',\n",
      " 'title': 'Nord Stream 2 проиграла дело о выводе «Северного потока-2» из-под '\n",
      "          'норм ЕС'}\n",
      "{'_id': ObjectId('612659f70af98dfe2b42f397'),\n",
      " 'datetime': datetime.datetime(2021, 8, 25, 17, 39),\n",
      " 'link': 'https://yandex.ru/news/story/Soprotivlenie_talibam_vAfganistane_prizvalo_Rossiyu_organizovat_peregovory--b59c51d88ddd818215ca18399451e77e?lang=ru&rubric=index&fan=1&stid=g4jEzIGUoMoJI0j68yWv&t=1629902672&tt=true&persistent_id=159217374',\n",
      " 'source': 'Известия',\n",
      " 'title': 'Сопротивление талибам в Афганистане призвало Россию организовать '\n",
      "          'переговоры'}\n",
      "{'_id': ObjectId('61265b530af98dfe2b42f399'),\n",
      " 'datetime': datetime.datetime(2021, 8, 25, 17, 55),\n",
      " 'link': 'https://yandex.ru/news/story/Dva_samoleta_MO_RF_dostavili_ehvakuirovannykh_izAfganistana_grazhdan_Kirgizii--f38b49e7e01acbcd79a1be0fba39ef19?lang=ru&rubric=index&fan=1&stid=xEdCgFGYuCgaR3c3TWc1&t=1629903283&tt=true&persistent_id=158460989',\n",
      " 'source': 'Известия',\n",
      " 'title': 'Два самолета МО РФ доставили эвакуированных из Афганистана граждан '\n",
      "          'Киргизии'}\n",
      "{'_id': ObjectId('61265b530af98dfe2b42f39a'),\n",
      " 'datetime': datetime.datetime(2021, 8, 25, 17, 52),\n",
      " 'link': 'https://yandex.ru/news/story/Putin_razreshil_dopustit_kgossluzhbe_rossiyan_sinostrannym_grazhdanstvom--e5bdaaea25676c8e90696793e4f099d6?lang=ru&rubric=index&fan=1&stid=xGwrhwIuIledPjmtEgBg&t=1629903283&tt=true&persistent_id=159224703',\n",
      " 'source': 'Ведомости',\n",
      " 'title': 'Путин разрешил допустить к госслужбе россиян с иностранным '\n",
      "          'гражданством'}\n",
      "{'_id': ObjectId('61265b530af98dfe2b42f39b'),\n",
      " 'datetime': datetime.datetime(2021, 8, 25, 17, 49),\n",
      " 'link': 'https://yandex.ru/news/story/Podozrevaemogo_vubijstve_vosmiletnej_devochki_vTyumeni_zaderzhali--6a8a5a25aba7949a4cc31026d61602f2?lang=ru&rubric=index&fan=1&stid=Szo30Lz9QyEk6VZluwdC&t=1629903283&tt=true&persistent_id=159211683',\n",
      " 'source': 'ТАСС',\n",
      " 'title': 'Подозреваемого в убийстве восьмилетней девочки в Тюмени задержали'}\n",
      "{'_id': ObjectId('61265b530af98dfe2b42f39c'),\n",
      " 'datetime': datetime.datetime(2021, 8, 25, 17, 50),\n",
      " 'link': 'https://yandex.ru/news/story/Nord_Stream_2_proigrala_delo_ovyvode_Severnogo_potoka-2_iz-podnorm_ES--f19e9ea135139eb6886a24cfef1f4a03?lang=ru&rubric=index&fan=1&stid=XqYg_ZMwxOr7iVk2hU0A&t=1629903283&tt=true&persistent_id=158432290',\n",
      " 'source': 'РБК',\n",
      " 'title': 'Nord Stream 2 проиграла дело о выводе «Северного потока-2» из-под '\n",
      "          'норм ЕС'}\n",
      "{'_id': ObjectId('61265b530af98dfe2b42f39d'),\n",
      " 'datetime': datetime.datetime(2021, 8, 25, 17, 48),\n",
      " 'link': 'https://yandex.ru/news/story/Soprotivlenie_talibam_vAfganistane_prizvalo_Rossiyu_organizovat_peregovory--b59c51d88ddd818215ca18399451e77e?lang=ru&rubric=index&fan=1&stid=yL0Mg4jEzIGUoMoJI0j6&t=1629903283&tt=true&persistent_id=159217374',\n",
      " 'source': 'Известия',\n",
      " 'title': 'Сопротивление талибам в Афганистане призвало Россию организовать '\n",
      "          'переговоры'}\n"
     ]
    }
   ],
   "source": [
    "# выводим содержимое базы\n",
    "for i in yandex_news.find({}):\n",
    "    pprint(i)"
   ]
  },
  {
   "cell_type": "code",
   "execution_count": 71,
   "metadata": {},
   "outputs": [],
   "source": [
    "#yandex_news.delete_many({})\n",
    "#yandex_news.estimated_document_count()\n"
   ]
  },
  {
   "cell_type": "code",
   "execution_count": null,
   "metadata": {},
   "outputs": [],
   "source": []
  }
 ],
 "metadata": {
  "kernelspec": {
   "display_name": "Python 3",
   "language": "python",
   "name": "python3"
  },
  "language_info": {
   "codemirror_mode": {
    "name": "ipython",
    "version": 3
   },
   "file_extension": ".py",
   "mimetype": "text/x-python",
   "name": "python",
   "nbconvert_exporter": "python",
   "pygments_lexer": "ipython3",
   "version": "3.7.4"
  }
 },
 "nbformat": 4,
 "nbformat_minor": 2
}
