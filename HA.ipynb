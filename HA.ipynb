{
 "cells": [
  {
   "cell_type": "markdown",
   "metadata": {},
   "source": [
    "# HA5"
   ]
  },
  {
   "cell_type": "markdown",
   "metadata": {},
   "source": [
    "Task1"
   ]
  },
  {
   "cell_type": "code",
   "execution_count": 311,
   "metadata": {},
   "outputs": [
    {
     "name": "stdout",
     "output_type": "stream",
     "text": [
      "Requirement already satisfied: selenium in c:\\users\\rh\\anaconda3\\lib\\site-packages (4.0.0)\n",
      "Requirement already satisfied: trio~=0.17 in c:\\users\\rh\\anaconda3\\lib\\site-packages (from selenium) (0.19.0)\n",
      "Requirement already satisfied: trio-websocket~=0.9 in c:\\users\\rh\\anaconda3\\lib\\site-packages (from selenium) (0.9.2)\n",
      "Requirement already satisfied: urllib3[secure]~=1.26 in c:\\users\\rh\\anaconda3\\lib\\site-packages (from selenium) (1.26.7)\n",
      "Requirement already satisfied: idna in c:\\users\\rh\\anaconda3\\lib\\site-packages (from trio~=0.17->selenium) (2.8)\n",
      "Requirement already satisfied: async-generator>=1.9 in c:\\users\\rh\\anaconda3\\lib\\site-packages (from trio~=0.17->selenium) (1.10)\n",
      "Requirement already satisfied: attrs>=19.2.0 in c:\\users\\rh\\anaconda3\\lib\\site-packages (from trio~=0.17->selenium) (19.2.0)\n",
      "Requirement already satisfied: sniffio in c:\\users\\rh\\anaconda3\\lib\\site-packages (from trio~=0.17->selenium) (1.2.0)\n",
      "Requirement already satisfied: outcome in c:\\users\\rh\\anaconda3\\lib\\site-packages (from trio~=0.17->selenium) (1.1.0)\n",
      "Requirement already satisfied: sortedcontainers in c:\\users\\rh\\anaconda3\\lib\\site-packages (from trio~=0.17->selenium) (2.1.0)\n",
      "Requirement already satisfied: cffi>=1.14; os_name == \"nt\" and implementation_name != \"pypy\" in c:\\users\\rh\\anaconda3\\lib\\site-packages (from trio~=0.17->selenium) (1.15.0)\n",
      "Requirement already satisfied: wsproto>=0.14 in c:\\users\\rh\\anaconda3\\lib\\site-packages (from trio-websocket~=0.9->selenium) (1.0.0)\n",
      "Requirement already satisfied: certifi; extra == \"secure\" in c:\\users\\rh\\anaconda3\\lib\\site-packages (from urllib3[secure]~=1.26->selenium) (2019.9.11)\n",
      "Requirement already satisfied: pyOpenSSL>=0.14; extra == \"secure\" in c:\\users\\rh\\anaconda3\\lib\\site-packages (from urllib3[secure]~=1.26->selenium) (19.0.0)\n",
      "Requirement already satisfied: cryptography>=1.3.4; extra == \"secure\" in c:\\users\\rh\\anaconda3\\lib\\site-packages (from urllib3[secure]~=1.26->selenium) (2.7)\n",
      "Requirement already satisfied: pycparser in c:\\users\\rh\\anaconda3\\lib\\site-packages (from cffi>=1.14; os_name == \"nt\" and implementation_name != \"pypy\"->trio~=0.17->selenium) (2.19)\n",
      "Requirement already satisfied: h11<1,>=0.9.0 in c:\\users\\rh\\anaconda3\\lib\\site-packages (from wsproto>=0.14->trio-websocket~=0.9->selenium) (0.9.0)\n",
      "Requirement already satisfied: six>=1.5.2 in c:\\users\\rh\\anaconda3\\lib\\site-packages (from pyOpenSSL>=0.14; extra == \"secure\"->urllib3[secure]~=1.26->selenium) (1.12.0)\n",
      "Requirement already satisfied: asn1crypto>=0.21.0 in c:\\users\\rh\\anaconda3\\lib\\site-packages (from cryptography>=1.3.4; extra == \"secure\"->urllib3[secure]~=1.26->selenium) (1.0.1)\n",
      "Note: you may need to restart the kernel to use updated packages.\n"
     ]
    }
   ],
   "source": [
    "pip install selenium"
   ]
  },
  {
   "cell_type": "code",
   "execution_count": 312,
   "metadata": {},
   "outputs": [],
   "source": [
    "from selenium import webdriver\n",
    "from selenium.webdriver.chrome.service import Service\n",
    "s = Service('../chromedriver.exe')\n",
    "\n",
    "from selenium.webdriver.common.by import By\n",
    "from selenium.webdriver.common.keys import Keys\n",
    "from selenium.webdriver.common.action_chains import ActionChains\n",
    "from selenium.webdriver.support.ui import WebDriverWait\n",
    "from selenium.webdriver.support import expected_conditions as EC\n",
    "\n",
    "import numpy as np\n",
    "import pandas as pd\n",
    "import time"
   ]
  },
  {
   "cell_type": "code",
   "execution_count": 388,
   "metadata": {},
   "outputs": [
    {
     "data": {
      "text/plain": [
       "'\\nwait = WebDriverWait(driver, 10000)\\nelement = driver.find_element(By.XPATH, \\'//a[@href = \"/inbox/\"]\\')\\nitem_wait = wait.until(EC.element_to_be_selected((driver.find_element(By.XPATH, \\'//a[@href = \"/inbox/\"]\\'))))\\nitem_wait.click()\\n'"
      ]
     },
     "execution_count": 388,
     "metadata": {},
     "output_type": "execute_result"
    }
   ],
   "source": [
    "# Логинимся на сайте\n",
    "\n",
    "driver = webdriver.Chrome(service = s)\n",
    "driver.maximize_window()\n",
    "driver.get('https://mail.ru')\n",
    "\n",
    "login = driver.find_element(By.NAME, 'login')\n",
    "login.send_keys('study.ai_172@mail.ru')\n",
    "login.send_keys(Keys.ENTER)\n",
    "\n",
    "time.sleep(3)\n",
    "\n",
    "pwd = driver.find_element(By.NAME, 'password')\n",
    "pwd.send_keys('NewPassword172#')\n",
    "pwd.send_keys(Keys.ENTER)\n",
    "\n",
    "time.sleep(10)\n",
    "driver.find_element(By.XPATH, '//a[@href = \"/inbox/\"]').click()\n",
    "time.sleep(3)\n",
    "driver.refresh()\n",
    "\n",
    "\n",
    "\"\"\"\n",
    "# не совсем понял почему через EC не сработало\n",
    "wait = WebDriverWait(driver, 10000)\n",
    "element = driver.find_element(By.XPATH, '//a[@href = \"/inbox/\"]')\n",
    "item_wait = wait.until(EC.element_to_be_selected((driver.find_element(By.XPATH, '//a[@href = \"/inbox/\"]'))))\n",
    "item_wait.click()\n",
    "\"\"\""
   ]
  },
  {
   "cell_type": "code",
   "execution_count": 389,
   "metadata": {},
   "outputs": [
    {
     "name": "stdout",
     "output_type": "stream",
     "text": [
      "Дошли до конца\n",
      "Количество писем =  783\n"
     ]
    }
   ],
   "source": [
    "# Забор ссылок на письма\n",
    "time.sleep(3)\n",
    "\n",
    "actions = ActionChains(driver)\n",
    "\n",
    "links = []\n",
    "\n",
    "while True:\n",
    "    mails = driver.find_elements(By.XPATH, \n",
    "            '//a[contains(@class, \"js-tooltip-direction_letter-bottom\") and contains(@class, \"js-letter-list-item\")]')\n",
    "\n",
    "    new_links = [mail.get_attribute('href') for mail in mails]\n",
    "    \n",
    "    \n",
    "    if links:\n",
    "        if links[-1] == new_links[-1]:\n",
    "            print('Дошли до конца')\n",
    "            break\n",
    "    \n",
    "    links.extend([mail.get_attribute('href') for mail in mails])    \n",
    "    #actions.move_to_element(mails[-1]).perform()\n",
    "    mails[-1].location_once_scrolled_into_view\n",
    "    time.sleep(3)\n",
    "\n",
    "links = list(set(links))\n",
    "print('Количество писем = ', len(links))"
   ]
  },
  {
   "cell_type": "code",
   "execution_count": 394,
   "metadata": {},
   "outputs": [],
   "source": [
    "# Забор данных о письмах\n",
    "\n",
    "titles = []\n",
    "senders = []\n",
    "dates = []\n",
    "bodies = []\n",
    "\n",
    "#только первые три сделаем для примера, все будет долго думаю\n",
    "for item in links[:3]:\n",
    "\n",
    "    driver.get(item)\n",
    "    time.sleep(3)\n",
    "    \n",
    "    title = driver.find_element(By.XPATH, '//h2[contains(@class, \"thread__subject\")]').text\n",
    "    titles.append(title)\n",
    "    \n",
    "    sender = driver.find_element(By.XPATH, '//span[contains(@class, \"letter-contact\")]').text\n",
    "    senders.append(sender) \n",
    "    \n",
    "    datetime = driver.find_element(By.XPATH, '//div[contains(@class, \"letter__date\")]').text\n",
    "    dates.append(datetime)   \n",
    "    \n",
    "    body = driver.find_element(By.XPATH, '//div[contains(@class, \"letter__body\")]').text\n",
    "    bodies.append(body)\n",
    "\n",
    "# просто проверяем что количество собранных писем совпадает с количеством собранных данных о письмах\n",
    "len(titles) == len(links)\n",
    "\n",
    "# не стал уже переводить это в БД, понятно что это можно легко сделать"
   ]
  },
  {
   "cell_type": "code",
   "execution_count": null,
   "metadata": {},
   "outputs": [],
   "source": []
  }
 ],
 "metadata": {
  "kernelspec": {
   "display_name": "Python 3",
   "language": "python",
   "name": "python3"
  },
  "language_info": {
   "codemirror_mode": {
    "name": "ipython",
    "version": 3
   },
   "file_extension": ".py",
   "mimetype": "text/x-python",
   "name": "python",
   "nbconvert_exporter": "python",
   "pygments_lexer": "ipython3",
   "version": "3.7.4"
  }
 },
 "nbformat": 4,
 "nbformat_minor": 2
}
