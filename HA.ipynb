{
 "cells": [
  {
   "cell_type": "markdown",
   "metadata": {},
   "source": [
    "# HA5"
   ]
  },
  {
   "cell_type": "markdown",
   "metadata": {},
   "source": [
    "Task1"
   ]
  },
  {
   "cell_type": "code",
   "execution_count": 3,
   "metadata": {},
   "outputs": [
    {
     "name": "stdout",
     "output_type": "stream",
     "text": [
      "Requirement already satisfied: selenium in c:\\users\\rh\\anaconda3\\lib\\site-packages (4.0.0)\n",
      "Requirement already satisfied: trio-websocket~=0.9 in c:\\users\\rh\\anaconda3\\lib\\site-packages (from selenium) (0.9.2)\n",
      "Requirement already satisfied: urllib3[secure]~=1.26 in c:\\users\\rh\\anaconda3\\lib\\site-packages (from selenium) (1.26.7)\n",
      "Requirement already satisfied: trio~=0.17 in c:\\users\\rh\\anaconda3\\lib\\site-packages (from selenium) (0.19.0)\n",
      "Requirement already satisfied: wsproto>=0.14 in c:\\users\\rh\\anaconda3\\lib\\site-packages (from trio-websocket~=0.9->selenium) (1.0.0)\n",
      "Requirement already satisfied: async-generator>=1.10 in c:\\users\\rh\\anaconda3\\lib\\site-packages (from trio-websocket~=0.9->selenium) (1.10)\n",
      "Requirement already satisfied: cryptography>=1.3.4; extra == \"secure\" in c:\\users\\rh\\anaconda3\\lib\\site-packages (from urllib3[secure]~=1.26->selenium) (2.7)\n",
      "Requirement already satisfied: pyOpenSSL>=0.14; extra == \"secure\" in c:\\users\\rh\\anaconda3\\lib\\site-packages (from urllib3[secure]~=1.26->selenium) (19.0.0)\n",
      "Requirement already satisfied: certifi; extra == \"secure\" in c:\\users\\rh\\anaconda3\\lib\\site-packages (from urllib3[secure]~=1.26->selenium) (2019.9.11)\n",
      "Requirement already satisfied: idna>=2.0.0; extra == \"secure\" in c:\\users\\rh\\anaconda3\\lib\\site-packages (from urllib3[secure]~=1.26->selenium) (2.8)\n",
      "Requirement already satisfied: outcome in c:\\users\\rh\\anaconda3\\lib\\site-packages (from trio~=0.17->selenium) (1.1.0)\n",
      "Requirement already satisfied: sniffio in c:\\users\\rh\\anaconda3\\lib\\site-packages (from trio~=0.17->selenium) (1.2.0)\n",
      "Requirement already satisfied: sortedcontainers in c:\\users\\rh\\anaconda3\\lib\\site-packages (from trio~=0.17->selenium) (2.1.0)\n",
      "Requirement already satisfied: attrs>=19.2.0 in c:\\users\\rh\\anaconda3\\lib\\site-packages (from trio~=0.17->selenium) (19.2.0)\n",
      "Requirement already satisfied: cffi>=1.14; os_name == \"nt\" and implementation_name != \"pypy\" in c:\\users\\rh\\anaconda3\\lib\\site-packages (from trio~=0.17->selenium) (1.15.0)\n",
      "Requirement already satisfied: h11<1,>=0.9.0 in c:\\users\\rh\\anaconda3\\lib\\site-packages (from wsproto>=0.14->trio-websocket~=0.9->selenium) (0.9.0)\n",
      "Requirement already satisfied: six>=1.4.1 in c:\\users\\rh\\anaconda3\\lib\\site-packages (from cryptography>=1.3.4; extra == \"secure\"->urllib3[secure]~=1.26->selenium) (1.12.0)\n",
      "Requirement already satisfied: asn1crypto>=0.21.0 in c:\\users\\rh\\anaconda3\\lib\\site-packages (from cryptography>=1.3.4; extra == \"secure\"->urllib3[secure]~=1.26->selenium) (1.0.1)\n",
      "Requirement already satisfied: pycparser in c:\\users\\rh\\anaconda3\\lib\\site-packages (from cffi>=1.14; os_name == \"nt\" and implementation_name != \"pypy\"->trio~=0.17->selenium) (2.19)\n",
      "Note: you may need to restart the kernel to use updated packages.\n"
     ]
    }
   ],
   "source": [
    "pip install selenium"
   ]
  },
  {
   "cell_type": "code",
   "execution_count": 50,
   "metadata": {},
   "outputs": [],
   "source": [
    "from selenium import webdriver\n",
    "from selenium.webdriver.chrome.service import Service\n",
    "s = Service('../chromedriver.exe')\n",
    "\n",
    "from selenium.webdriver.common.by import By\n",
    "from selenium.webdriver.common.keys import Keys\n",
    "from selenium.webdriver.common.action_chains import ActionChains\n",
    "\n",
    "import numpy as np\n",
    "import pandas as pd\n",
    "import time"
   ]
  },
  {
   "cell_type": "code",
   "execution_count": 53,
   "metadata": {},
   "outputs": [],
   "source": [
    "#Логинимся на сайте\n",
    "\n",
    "driver = webdriver.Chrome(service = s)\n",
    "driver.maximize_window()\n",
    "driver.get('https://mail.ru')\n",
    "\n",
    "login = driver.find_element(By.NAME, 'login')\n",
    "login.send_keys('study.ai_172@mail.ru')\n",
    "login.send_keys(Keys.ENTER)\n",
    "\n",
    "time.sleep(3)\n",
    "\n",
    "pwd = driver.find_element(By.NAME, 'password')\n",
    "pwd.send_keys('NewPassword172#')\n",
    "pwd.send_keys(Keys.ENTER)"
   ]
  },
  {
   "cell_type": "code",
   "execution_count": 59,
   "metadata": {},
   "outputs": [
    {
     "name": "stdout",
     "output_type": "stream",
     "text": [
      "11\n",
      "Webdesigner News <no-reply@webdesignernews.com>\n",
      "Webdesigner News <no-reply@webdesignernews.com>\n",
      "Webdesigner News <no-reply@webdesignernews.com>\n",
      "Webdesigner News <no-reply@webdesignernews.com>\n",
      "Webdesigner News <no-reply@webdesignernews.com>\n",
      "Webdesigner News <no-reply@webdesignernews.com>\n",
      "Webdesigner News <no-reply@webdesignernews.com>\n",
      "Webdesigner News <no-reply@webdesignernews.com>\n",
      "Webdesigner News <no-reply@webdesignernews.com>\n",
      "Webdesigner News <no-reply@webdesignernews.com>\n",
      "Webdesigner News <no-reply@webdesignernews.com>\n",
      "✏ Facebook Goes All Meta, Make A Fintech App Design, Effective Image Component, and more...\n",
      "✏ Facebook Goes All Meta, Make A Fintech App Design, Effective Image Component, and more...\n",
      "✏ Facebook Goes All Meta, Make A Fintech App Design, Effective Image Component, and more...\n",
      "✏ Facebook Goes All Meta, Make A Fintech App Design, Effective Image Component, and more...\n",
      "✏ Facebook Goes All Meta, Make A Fintech App Design, Effective Image Component, and more...\n",
      "✏ Facebook Goes All Meta, Make A Fintech App Design, Effective Image Component, and more...\n",
      "✏ Facebook Goes All Meta, Make A Fintech App Design, Effective Image Component, and more...\n",
      "✏ Facebook Goes All Meta, Make A Fintech App Design, Effective Image Component, and more...\n",
      "✏ Facebook Goes All Meta, Make A Fintech App Design, Effective Image Component, and more...\n",
      "✏ Facebook Goes All Meta, Make A Fintech App Design, Effective Image Component, and more...\n",
      "✏ Facebook Goes All Meta, Make A Fintech App Design, Effective Image Component, and more...\n"
     ]
    }
   ],
   "source": [
    "# Скроллинг\n",
    "\n",
    "senders = driver.find_elements(By.XPATH, '//span[contains(@class, \"bs5TYDf\")]')\n",
    "titles = driver.find_elements(By.XPATH, '//span[contains(@class, \"bs5TYWT\")]')\n",
    "\n",
    "\n",
    "print(len(senders))\n",
    "\n",
    "sender = []\n",
    "for i in senders:    \n",
    "    sender.append(driver.find_element(By.XPATH, '//span[contains(@class, \"bs5TYDf\")]').get_attribute('title'))\n",
    "\n",
    "title = []\n",
    "for i in titles:\n",
    "    title.append(driver.find_element(By.XPATH, '//span[contains(@class, \"bs5TYWT\")]').text)\n",
    "\n",
    "    \n",
    "\n",
    "#cont.get_attribute('title')\n",
    "#print(len(cont))\n",
    "#ll-crpt\n",
    "#VEJQNtw\n",
    "\n"
   ]
  },
  {
   "cell_type": "code",
   "execution_count": null,
   "metadata": {},
   "outputs": [],
   "source": [
    "actions = ActionChains(driver)\n",
    "actions.move_by_offset(500,100)\n",
    "actions.move_to_element(to_element=element)"
   ]
  },
  {
   "cell_type": "code",
   "execution_count": 117,
   "metadata": {},
   "outputs": [
    {
     "ename": "NoSuchElementException",
     "evalue": "Message: no such element: Unable to locate element: {\"method\":\"xpath\",\"selector\":\"//div[contains(@class, \"letter__date\")]\"}\n  (Session info: chrome=95.0.4638.69)\nStacktrace:\nBacktrace:\n\tOrdinal0 [0x00E506F3+2492147]\n\tOrdinal0 [0x00DE9BD1+2071505]\n\tOrdinal0 [0x00CF2478+1057912]\n\tOrdinal0 [0x00D1C964+1231204]\n\tOrdinal0 [0x00D46B62+1403746]\n\tOrdinal0 [0x00D357FA+1333242]\n\tOrdinal0 [0x00D44F38+1396536]\n\tOrdinal0 [0x00D3568B+1332875]\n\tOrdinal0 [0x00D121D4+1188308]\n\tOrdinal0 [0x00D1302F+1191983]\n\tGetHandleVerifier [0x00FD67A6+1545030]\n\tGetHandleVerifier [0x0108105C+2243580]\n\tGetHandleVerifier [0x00EDBC97+518199]\n\tGetHandleVerifier [0x00EDAD80+514336]\n\tOrdinal0 [0x00DEED2D+2092333]\n\tOrdinal0 [0x00DF2EE8+2109160]\n\tOrdinal0 [0x00DF3022+2109474]\n\tOrdinal0 [0x00DFCB71+2149233]\n\tBaseThreadInitThunk [0x776DFA29+25]\n\tRtlGetAppContainerNamedObjectPath [0x77917A9E+286]\n\tRtlGetAppContainerNamedObjectPath [0x77917A6E+238]\n",
     "output_type": "error",
     "traceback": [
      "\u001b[1;31m---------------------------------------------------------------------------\u001b[0m",
      "\u001b[1;31mNoSuchElementException\u001b[0m                    Traceback (most recent call last)",
      "\u001b[1;32m<ipython-input-117-509404b98c7c>\u001b[0m in \u001b[0;36m<module>\u001b[1;34m\u001b[0m\n\u001b[0;32m     35\u001b[0m         \u001b[0mtime\u001b[0m\u001b[1;33m.\u001b[0m\u001b[0msleep\u001b[0m\u001b[1;33m(\u001b[0m\u001b[1;36m3\u001b[0m\u001b[1;33m)\u001b[0m\u001b[1;33m\u001b[0m\u001b[1;33m\u001b[0m\u001b[0m\n\u001b[0;32m     36\u001b[0m \u001b[1;33m\u001b[0m\u001b[0m\n\u001b[1;32m---> 37\u001b[1;33m         \u001b[0mdatetime\u001b[0m \u001b[1;33m=\u001b[0m \u001b[0mdriver\u001b[0m\u001b[1;33m.\u001b[0m\u001b[0mfind_element\u001b[0m\u001b[1;33m(\u001b[0m\u001b[0mBy\u001b[0m\u001b[1;33m.\u001b[0m\u001b[0mXPATH\u001b[0m\u001b[1;33m,\u001b[0m \u001b[1;34m'//div[contains(@class, \"letter__date\")]'\u001b[0m\u001b[1;33m)\u001b[0m\u001b[1;33m.\u001b[0m\u001b[0mtext\u001b[0m\u001b[1;33m\u001b[0m\u001b[1;33m\u001b[0m\u001b[0m\n\u001b[0m\u001b[0;32m     38\u001b[0m         \u001b[0mdates\u001b[0m\u001b[1;33m.\u001b[0m\u001b[0mappend\u001b[0m\u001b[1;33m(\u001b[0m\u001b[0mdatetime\u001b[0m\u001b[1;33m)\u001b[0m\u001b[1;33m\u001b[0m\u001b[1;33m\u001b[0m\u001b[0m\n\u001b[0;32m     39\u001b[0m \u001b[1;33m\u001b[0m\u001b[0m\n",
      "\u001b[1;32m~\\Anaconda3\\lib\\site-packages\\selenium\\webdriver\\remote\\webdriver.py\u001b[0m in \u001b[0;36mfind_element\u001b[1;34m(self, by, value)\u001b[0m\n\u001b[0;32m   1238\u001b[0m         return self.execute(Command.FIND_ELEMENT, {\n\u001b[0;32m   1239\u001b[0m             \u001b[1;34m'using'\u001b[0m\u001b[1;33m:\u001b[0m \u001b[0mby\u001b[0m\u001b[1;33m,\u001b[0m\u001b[1;33m\u001b[0m\u001b[1;33m\u001b[0m\u001b[0m\n\u001b[1;32m-> 1240\u001b[1;33m             'value': value})['value']\n\u001b[0m\u001b[0;32m   1241\u001b[0m \u001b[1;33m\u001b[0m\u001b[0m\n\u001b[0;32m   1242\u001b[0m     \u001b[1;32mdef\u001b[0m \u001b[0mfind_elements\u001b[0m\u001b[1;33m(\u001b[0m\u001b[0mself\u001b[0m\u001b[1;33m,\u001b[0m \u001b[0mby\u001b[0m\u001b[1;33m=\u001b[0m\u001b[0mBy\u001b[0m\u001b[1;33m.\u001b[0m\u001b[0mID\u001b[0m\u001b[1;33m,\u001b[0m \u001b[0mvalue\u001b[0m\u001b[1;33m=\u001b[0m\u001b[1;32mNone\u001b[0m\u001b[1;33m)\u001b[0m \u001b[1;33m->\u001b[0m \u001b[0mList\u001b[0m\u001b[1;33m[\u001b[0m\u001b[0mWebElement\u001b[0m\u001b[1;33m]\u001b[0m\u001b[1;33m:\u001b[0m\u001b[1;33m\u001b[0m\u001b[1;33m\u001b[0m\u001b[0m\n",
      "\u001b[1;32m~\\Anaconda3\\lib\\site-packages\\selenium\\webdriver\\remote\\webdriver.py\u001b[0m in \u001b[0;36mexecute\u001b[1;34m(self, driver_command, params)\u001b[0m\n\u001b[0;32m    416\u001b[0m         \u001b[0mresponse\u001b[0m \u001b[1;33m=\u001b[0m \u001b[0mself\u001b[0m\u001b[1;33m.\u001b[0m\u001b[0mcommand_executor\u001b[0m\u001b[1;33m.\u001b[0m\u001b[0mexecute\u001b[0m\u001b[1;33m(\u001b[0m\u001b[0mdriver_command\u001b[0m\u001b[1;33m,\u001b[0m \u001b[0mparams\u001b[0m\u001b[1;33m)\u001b[0m\u001b[1;33m\u001b[0m\u001b[1;33m\u001b[0m\u001b[0m\n\u001b[0;32m    417\u001b[0m         \u001b[1;32mif\u001b[0m \u001b[0mresponse\u001b[0m\u001b[1;33m:\u001b[0m\u001b[1;33m\u001b[0m\u001b[1;33m\u001b[0m\u001b[0m\n\u001b[1;32m--> 418\u001b[1;33m             \u001b[0mself\u001b[0m\u001b[1;33m.\u001b[0m\u001b[0merror_handler\u001b[0m\u001b[1;33m.\u001b[0m\u001b[0mcheck_response\u001b[0m\u001b[1;33m(\u001b[0m\u001b[0mresponse\u001b[0m\u001b[1;33m)\u001b[0m\u001b[1;33m\u001b[0m\u001b[1;33m\u001b[0m\u001b[0m\n\u001b[0m\u001b[0;32m    419\u001b[0m             response['value'] = self._unwrap_value(\n\u001b[0;32m    420\u001b[0m                 response.get('value', None))\n",
      "\u001b[1;32m~\\Anaconda3\\lib\\site-packages\\selenium\\webdriver\\remote\\errorhandler.py\u001b[0m in \u001b[0;36mcheck_response\u001b[1;34m(self, response)\u001b[0m\n\u001b[0;32m    241\u001b[0m                 \u001b[0malert_text\u001b[0m \u001b[1;33m=\u001b[0m \u001b[0mvalue\u001b[0m\u001b[1;33m[\u001b[0m\u001b[1;34m'alert'\u001b[0m\u001b[1;33m]\u001b[0m\u001b[1;33m.\u001b[0m\u001b[0mget\u001b[0m\u001b[1;33m(\u001b[0m\u001b[1;34m'text'\u001b[0m\u001b[1;33m)\u001b[0m\u001b[1;33m\u001b[0m\u001b[1;33m\u001b[0m\u001b[0m\n\u001b[0;32m    242\u001b[0m             \u001b[1;32mraise\u001b[0m \u001b[0mexception_class\u001b[0m\u001b[1;33m(\u001b[0m\u001b[0mmessage\u001b[0m\u001b[1;33m,\u001b[0m \u001b[0mscreen\u001b[0m\u001b[1;33m,\u001b[0m \u001b[0mstacktrace\u001b[0m\u001b[1;33m,\u001b[0m \u001b[0malert_text\u001b[0m\u001b[1;33m)\u001b[0m  \u001b[1;31m# type: ignore[call-arg]  # mypy is not smart enough here\u001b[0m\u001b[1;33m\u001b[0m\u001b[1;33m\u001b[0m\u001b[0m\n\u001b[1;32m--> 243\u001b[1;33m         \u001b[1;32mraise\u001b[0m \u001b[0mexception_class\u001b[0m\u001b[1;33m(\u001b[0m\u001b[0mmessage\u001b[0m\u001b[1;33m,\u001b[0m \u001b[0mscreen\u001b[0m\u001b[1;33m,\u001b[0m \u001b[0mstacktrace\u001b[0m\u001b[1;33m)\u001b[0m\u001b[1;33m\u001b[0m\u001b[1;33m\u001b[0m\u001b[0m\n\u001b[0m\u001b[0;32m    244\u001b[0m \u001b[1;33m\u001b[0m\u001b[0m\n\u001b[0;32m    245\u001b[0m     \u001b[1;32mdef\u001b[0m \u001b[0m_value_or_default\u001b[0m\u001b[1;33m(\u001b[0m\u001b[0mself\u001b[0m\u001b[1;33m,\u001b[0m \u001b[0mobj\u001b[0m\u001b[1;33m:\u001b[0m \u001b[0mMapping\u001b[0m\u001b[1;33m[\u001b[0m\u001b[0m_KT\u001b[0m\u001b[1;33m,\u001b[0m \u001b[0m_VT\u001b[0m\u001b[1;33m]\u001b[0m\u001b[1;33m,\u001b[0m \u001b[0mkey\u001b[0m\u001b[1;33m:\u001b[0m \u001b[0m_KT\u001b[0m\u001b[1;33m,\u001b[0m \u001b[0mdefault\u001b[0m\u001b[1;33m:\u001b[0m \u001b[0m_VT\u001b[0m\u001b[1;33m)\u001b[0m \u001b[1;33m->\u001b[0m \u001b[0m_VT\u001b[0m\u001b[1;33m:\u001b[0m\u001b[1;33m\u001b[0m\u001b[1;33m\u001b[0m\u001b[0m\n",
      "\u001b[1;31mNoSuchElementException\u001b[0m: Message: no such element: Unable to locate element: {\"method\":\"xpath\",\"selector\":\"//div[contains(@class, \"letter__date\")]\"}\n  (Session info: chrome=95.0.4638.69)\nStacktrace:\nBacktrace:\n\tOrdinal0 [0x00E506F3+2492147]\n\tOrdinal0 [0x00DE9BD1+2071505]\n\tOrdinal0 [0x00CF2478+1057912]\n\tOrdinal0 [0x00D1C964+1231204]\n\tOrdinal0 [0x00D46B62+1403746]\n\tOrdinal0 [0x00D357FA+1333242]\n\tOrdinal0 [0x00D44F38+1396536]\n\tOrdinal0 [0x00D3568B+1332875]\n\tOrdinal0 [0x00D121D4+1188308]\n\tOrdinal0 [0x00D1302F+1191983]\n\tGetHandleVerifier [0x00FD67A6+1545030]\n\tGetHandleVerifier [0x0108105C+2243580]\n\tGetHandleVerifier [0x00EDBC97+518199]\n\tGetHandleVerifier [0x00EDAD80+514336]\n\tOrdinal0 [0x00DEED2D+2092333]\n\tOrdinal0 [0x00DF2EE8+2109160]\n\tOrdinal0 [0x00DF3022+2109474]\n\tOrdinal0 [0x00DFCB71+2149233]\n\tBaseThreadInitThunk [0x776DFA29+25]\n\tRtlGetAppContainerNamedObjectPath [0x77917A9E+286]\n\tRtlGetAppContainerNamedObjectPath [0x77917A6E+238]\n"
     ]
    }
   ],
   "source": [
    "# переход в письмо и забор данных о дате письма и контента письма\n",
    "time.sleep(3)\n",
    "\n",
    "actions = ActionChains(driver)\n",
    "\n",
    "titles = []\n",
    "senders = []\n",
    "dates = []\n",
    "bodies = []\n",
    "sets = []\n",
    "\n",
    "actions = ActionChains(driver)\n",
    "\n",
    "i = 0\n",
    "j = 0\n",
    "\n",
    "while j < 3:\n",
    "\n",
    "    s = len(driver.find_elements(By.XPATH, '//span[contains(@class, \"bs5TYWT\")]'))\n",
    "    sets.append(s)\n",
    "    i = 0\n",
    "    x = driver.find_elements(By.XPATH, '//div[contains(@class, \"bs5TYVO\")]')\n",
    "    \n",
    "    while i < s:\n",
    "\n",
    "        sender = driver.find_elements(By.XPATH, '//span[contains(@class, \"bs5TYDf\")]')[i]\n",
    "        senders.append(sender.get_attribute('title'))        \n",
    "\n",
    "        title = driver.find_elements(By.XPATH, '//span[contains(@class, \"bs5TYWT\")]')[i]\n",
    "        titles.append(title.text)\n",
    "\n",
    "        #item = driver.find_elements(By.XPATH, '//div[contains(@class, \"bs5TYVO\")]')[i]\n",
    "        item = x[i]\n",
    "        item.click()\n",
    "        time.sleep(3)\n",
    "\n",
    "        datetime = driver.find_element(By.XPATH, '//div[contains(@class, \"letter__date\")]').text\n",
    "        dates.append(datetime)\n",
    "\n",
    "        body = driver.find_element(By.XPATH, '//div[contains(@class, \"letter__body\")]').text\n",
    "        bodies.append(body)\n",
    "\n",
    "        back_button = driver.find_element(By.XPATH, '//span[@title=\"Вернуться\"]')\n",
    "        back_button.click()\n",
    "        time.sleep(3)\n",
    "\n",
    "        i += 1\n",
    "    \n",
    "    element = sender\n",
    "    actions.move_to_element(to_element=element)\n",
    "    j += 1\n"
   ]
  },
  {
   "cell_type": "code",
   "execution_count": 116,
   "metadata": {},
   "outputs": [
    {
     "data": {
      "text/plain": [
       "['✏ Facebook Goes All Meta, Make A Fintech App Design, Effective Image Component, and more...',\n",
       " 'Web Security Sale ends in 3 days',\n",
       " 'Топ новостей за 24 часа для вас',\n",
       " 'Изменён пароль в аккаунте',\n",
       " 'Внутри все ваши страхи 💀',\n",
       " 'ГАРАНТ. Рубрика \"Проверки\" от 29.10.2021',\n",
       " 'ГАРАНТ. Рубрика \"Инициативы\" от 29.10.2021',\n",
       " 'ГАРАНТ. Рубрика \"Практика\" от 29.10.2021',\n",
       " 'ГАРАНТ. Рубрика \"Общество\" от 29.10.2021',\n",
       " 'ГАРАНТ. Рубрика \"Труд\" от 29.10.2021',\n",
       " 'ГАРАНТ. Рубрика \"ЖКХ\" от 29.10.2021',\n",
       " 'ГАРАНТ. Рубрика \"Бизнес\" от 29.10.2021',\n",
       " 'ГАРАНТ. Рубрика \"Налоги и бухучет\" от 29.10.2021',\n",
       " 'ГАРАНТ. Рубрика \"Судебная практика\" от 29.10.2021',\n",
       " 'ГАРАНТ. Правовая картина дня от 29.10.2021',\n",
       " 'ГАРАНТ. Главное для бухгалтера за день: информация Минфина и ФНС России, новости, правовые консультации от 29.10.2021',\n",
       " '✏ Facebook Goes All Meta, Make A Fintech App Design, Effective Image Component, and more...',\n",
       " 'Web Security Sale ends in 3 days',\n",
       " 'Топ новостей за 24 часа для вас',\n",
       " 'Изменён пароль в аккаунте',\n",
       " 'Внутри все ваши страхи 💀',\n",
       " 'ГАРАНТ. Рубрика \"Проверки\" от 29.10.2021',\n",
       " 'ГАРАНТ. Рубрика \"Инициативы\" от 29.10.2021',\n",
       " 'ГАРАНТ. Рубрика \"Практика\" от 29.10.2021',\n",
       " 'ГАРАНТ. Рубрика \"Общество\" от 29.10.2021',\n",
       " 'ГАРАНТ. Рубрика \"Труд\" от 29.10.2021',\n",
       " 'ГАРАНТ. Рубрика \"ЖКХ\" от 29.10.2021',\n",
       " 'ГАРАНТ. Рубрика \"Бизнес\" от 29.10.2021',\n",
       " 'ГАРАНТ. Рубрика \"Налоги и бухучет\" от 29.10.2021',\n",
       " 'ГАРАНТ. Рубрика \"Судебная практика\" от 29.10.2021',\n",
       " 'ГАРАНТ. Правовая картина дня от 29.10.2021',\n",
       " 'ГАРАНТ. Главное для бухгалтера за день: информация Минфина и ФНС России, новости, правовые консультации от 29.10.2021',\n",
       " 'ГАРАНТ. Еженедельный мониторинг федерального законодательства от 29.10.2021',\n",
       " 'ГАРАНТ. Еженедельный мониторинг московского законодательства от 29.10.2021',\n",
       " 'Trainline & Omada screens',\n",
       " 'Мать Джиджи Хадид подралась с зятем. Она подала в суд за избиения',\n",
       " 'ГАРАНТ. Ежедневный мониторинг федерального законодательства от 28.10.2021',\n",
       " 'Tasty Buttons, Word Does Not Exist, Coding Font, Material Design 3, Break Your System',\n",
       " 'Garant. Daily monitoring of the Federal legislation at 29.10.2021',\n",
       " 'ГАРАНТ. Правовая картина дня от 29.10.2021',\n",
       " 'ГАРАНТ. Рубрика \"Труд\" от 29.10.2021',\n",
       " 'ГАРАНТ. Рубрика \"Проверки\" от 29.10.2021',\n",
       " 'Внутри все ваши страхи 💀',\n",
       " 'ГАРАНТ. Рубрика \"Проверки\" от 29.10.2021',\n",
       " 'ГАРАНТ. Рубрика \"Инициативы\" от 29.10.2021',\n",
       " 'ГАРАНТ. Рубрика \"Практика\" от 29.10.2021',\n",
       " 'ГАРАНТ. Рубрика \"Общество\" от 29.10.2021',\n",
       " 'ГАРАНТ. Рубрика \"Труд\" от 29.10.2021',\n",
       " 'ГАРАНТ. Рубрика \"ЖКХ\" от 29.10.2021',\n",
       " 'ГАРАНТ. Рубрика \"Бизнес\" от 29.10.2021',\n",
       " 'ГАРАНТ. Рубрика \"Налоги и бухучет\" от 29.10.2021',\n",
       " 'ГАРАНТ. Рубрика \"Судебная практика\" от 29.10.2021',\n",
       " 'ГАРАНТ. Правовая картина дня от 29.10.2021',\n",
       " 'ГАРАНТ. Главное для бухгалтера за день: информация Минфина и ФНС России, новости, правовые консультации от 29.10.2021',\n",
       " 'ГАРАНТ. Еженедельный мониторинг федерального законодательства от 29.10.2021',\n",
       " 'ГАРАНТ. Еженедельный мониторинг московского законодательства от 29.10.2021',\n",
       " '✏ Facebook is now called Meta, Best Free SEO Tools, What Creativity Mean to You? and more...',\n",
       " 'Issue 326',\n",
       " 'ГАРАНТ. Главное для бухгалтера за день: информация Минфина и ФНС России, новости, правовые консультации от 28.10.2021',\n",
       " 'Топ новостей за 24 часа для вас',\n",
       " '✏ Dark Mode vs. Inverted, 20 Best New Sites, The Button Cheat Sheet, and more…',\n",
       " 'ГАРАНТ. Новости органов государственной власти от 26.10.2021']"
      ]
     },
     "execution_count": 116,
     "metadata": {},
     "output_type": "execute_result"
    }
   ],
   "source": [
    "titles"
   ]
  },
  {
   "cell_type": "code",
   "execution_count": 115,
   "metadata": {},
   "outputs": [
    {
     "data": {
      "text/plain": [
       "62"
      ]
     },
     "execution_count": 115,
     "metadata": {},
     "output_type": "execute_result"
    }
   ],
   "source": [
    "len(dates)"
   ]
  },
  {
   "cell_type": "code",
   "execution_count": null,
   "metadata": {},
   "outputs": [],
   "source": []
  }
 ],
 "metadata": {
  "kernelspec": {
   "display_name": "Python 3",
   "language": "python",
   "name": "python3"
  },
  "language_info": {
   "codemirror_mode": {
    "name": "ipython",
    "version": 3
   },
   "file_extension": ".py",
   "mimetype": "text/x-python",
   "name": "python",
   "nbconvert_exporter": "python",
   "pygments_lexer": "ipython3",
   "version": "3.7.4"
  }
 },
 "nbformat": 4,
 "nbformat_minor": 2
}
