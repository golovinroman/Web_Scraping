{
 "cells": [
  {
   "cell_type": "markdown",
   "metadata": {},
   "source": [
    "# HA4"
   ]
  },
  {
   "cell_type": "markdown",
   "metadata": {},
   "source": [
    "Task1"
   ]
  },
  {
   "cell_type": "code",
   "execution_count": 1,
   "metadata": {},
   "outputs": [],
   "source": [
    "import numpy as np\n",
    "import pandas as pd\n",
    "import requests\n",
    "import json\n",
    "from pprint import pprint\n",
    "from lxml import html\n",
    "from datetime import date"
   ]
  },
  {
   "cell_type": "code",
   "execution_count": 3,
   "metadata": {},
   "outputs": [],
   "source": [
    "headers = {'User-Agent':'Mozilla/5.0 (Windows NT 10.0; Win64; x64) AppleWebKit/537.36 (KHTML, like Gecko) Chrome/92.0.4515.131 Safari/537.36',\n",
    "          'Accept' : '*/*'}\n",
    "\n",
    "url = 'https://yandex.ru/news'\n",
    "response = requests.get(url, headers = headers)\n",
    "dom = html.fromstring(response.text)\n",
    "\n"
   ]
  },
  {
   "cell_type": "code",
   "execution_count": 41,
   "metadata": {},
   "outputs": [],
   "source": [
    "# парсим заголовки статей\n",
    "data = dom.xpath(\"//div[contains(@class, 'mg-grid__row mg-grid__row_gap_8 news-top-flexible-stories')]/div[contains(@class, 'mg-grid__col mg-grid__col_xs_')]//h2[contains(@class, 'mg-card')]/text()\")\n",
    "\n",
    "title = []\n",
    "for item in data:\n",
    "    title.append(item.replace(\"\\xa0\", \" \"))\n",
    "\n",
    "# парсим ссылки на статьи на самом агрегаторе\n",
    "link = dom.xpath(\"//div[contains(@class, 'mg-grid__row mg-grid__row_gap_8 news-top-flexible-stories')]/div[contains(@class, 'mg-grid__col mg-grid__col_xs_')]//a[contains(@class, 'mg-card__link')]/@href\")\n",
    "\n",
    "# парсим источники\n",
    "source = dom.xpath(\"//div[contains(@class, 'mg-grid__row mg-grid__row_gap_8 news-top-flexible-stories')]/div[contains(@class, 'mg-grid__col mg-grid__col_xs_')]//a[contains(@class, 'mg-card__source-link')]/text()\")\n",
    "\n",
    "# парсим дату новости\n",
    "data = dom.xpath(\"//div[contains(@class, 'mg-grid__row mg-grid__row_gap_8 news-top-flexible-stories')]/div[contains(@class, 'mg-grid__col mg-grid__col_xs_')]//span[contains(@class, 'mg-card-source__time')]/text()\")\n",
    "\n",
    "issue_date = []\n",
    "for i in data:\n",
    "    time = datetime.strptime(i, '%H:%M').time()\n",
    "    issue_date.append(datetime.combine(date.today(), time))\n"
   ]
  },
  {
   "cell_type": "code",
   "execution_count": null,
   "metadata": {},
   "outputs": [],
   "source": [
    "\n"
   ]
  },
  {
   "cell_type": "code",
   "execution_count": null,
   "metadata": {},
   "outputs": [],
   "source": [
    "\n"
   ]
  },
  {
   "cell_type": "code",
   "execution_count": null,
   "metadata": {},
   "outputs": [],
   "source": [
    "\n"
   ]
  },
  {
   "cell_type": "code",
   "execution_count": null,
   "metadata": {},
   "outputs": [],
   "source": [
    "\n",
    "\n"
   ]
  },
  {
   "cell_type": "code",
   "execution_count": null,
   "metadata": {},
   "outputs": [],
   "source": [
    "\n",
    "\n",
    "from pymongo import MongoClient\n",
    "client = MongoClient('127.0.0.1', 27017)\n",
    "\n",
    "db = client['news']\n",
    "yandex_news = db.yandex_news"
   ]
  }
 ],
 "metadata": {
  "kernelspec": {
   "display_name": "Python 3",
   "language": "python",
   "name": "python3"
  },
  "language_info": {
   "codemirror_mode": {
    "name": "ipython",
    "version": 3
   },
   "file_extension": ".py",
   "mimetype": "text/x-python",
   "name": "python",
   "nbconvert_exporter": "python",
   "pygments_lexer": "ipython3",
   "version": "3.7.4"
  }
 },
 "nbformat": 4,
 "nbformat_minor": 2
}
